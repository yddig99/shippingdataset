{
 "cells": [
  {
   "cell_type": "code",
   "execution_count": 2,
   "id": "567f227d",
   "metadata": {},
   "outputs": [],
   "source": [
    "import pandas as pd"
   ]
  },
  {
   "cell_type": "code",
   "execution_count": 3,
   "id": "8fa914b7",
   "metadata": {},
   "outputs": [],
   "source": [
    "import numpy as np"
   ]
  },
  {
   "cell_type": "code",
   "execution_count": 4,
   "id": "e8e5ed3c",
   "metadata": {},
   "outputs": [],
   "source": [
    "import matplotlib.pyplot as plt"
   ]
  },
  {
   "cell_type": "code",
   "execution_count": 5,
   "id": "4e0c1454",
   "metadata": {},
   "outputs": [],
   "source": [
    "import seaborn as sns"
   ]
  },
  {
   "cell_type": "code",
   "execution_count": 6,
   "id": "f6824e26",
   "metadata": {},
   "outputs": [],
   "source": [
    "#setting up the numbers of columns to show\n",
    "pd.set_option('display.max_columns',10)"
   ]
  },
  {
   "cell_type": "code",
   "execution_count": 7,
   "id": "4085df8b",
   "metadata": {},
   "outputs": [],
   "source": [
    "shippingdata = pd.read_csv(\"shipping_data.csv\")"
   ]
  },
  {
   "cell_type": "code",
   "execution_count": 8,
   "id": "bec66cf4",
   "metadata": {},
   "outputs": [
    {
     "data": {
      "text/html": [
       "<div>\n",
       "<style scoped>\n",
       "    .dataframe tbody tr th:only-of-type {\n",
       "        vertical-align: middle;\n",
       "    }\n",
       "\n",
       "    .dataframe tbody tr th {\n",
       "        vertical-align: top;\n",
       "    }\n",
       "\n",
       "    .dataframe thead th {\n",
       "        text-align: right;\n",
       "    }\n",
       "</style>\n",
       "<table border=\"1\" class=\"dataframe\">\n",
       "  <thead>\n",
       "    <tr style=\"text-align: right;\">\n",
       "      <th></th>\n",
       "      <th>name</th>\n",
       "      <th>price ($)</th>\n",
       "      <th>weight (kg)</th>\n",
       "      <th>length (m)</th>\n",
       "      <th>width (m)</th>\n",
       "      <th>height (m)</th>\n",
       "      <th>shipment date</th>\n",
       "      <th>destination port</th>\n",
       "    </tr>\n",
       "  </thead>\n",
       "  <tbody>\n",
       "    <tr>\n",
       "      <th>0</th>\n",
       "      <td>Camera Bag</td>\n",
       "      <td>37.66</td>\n",
       "      <td>1.10</td>\n",
       "      <td>0.40</td>\n",
       "      <td>0.39</td>\n",
       "      <td>0.26</td>\n",
       "      <td>2023-03-19</td>\n",
       "      <td>Port of Singapore (Singapore)</td>\n",
       "    </tr>\n",
       "    <tr>\n",
       "      <th>1</th>\n",
       "      <td>Portable Bluetooth Keyboard</td>\n",
       "      <td>144.65</td>\n",
       "      <td>0.39</td>\n",
       "      <td>0.11</td>\n",
       "      <td>0.06</td>\n",
       "      <td>0.03</td>\n",
       "      <td>2023-03-21</td>\n",
       "      <td>Port of Busan (South Korea)</td>\n",
       "    </tr>\n",
       "    <tr>\n",
       "      <th>2</th>\n",
       "      <td>Large Flat Rate Box</td>\n",
       "      <td>38.57</td>\n",
       "      <td>0.97</td>\n",
       "      <td>0.79</td>\n",
       "      <td>0.55</td>\n",
       "      <td>0.35</td>\n",
       "      <td>2023-03-25</td>\n",
       "      <td>Port of Tianjin (China)</td>\n",
       "    </tr>\n",
       "    <tr>\n",
       "      <th>3</th>\n",
       "      <td>Ceramic Tiles</td>\n",
       "      <td>10.34</td>\n",
       "      <td>6.22</td>\n",
       "      <td>0.36</td>\n",
       "      <td>0.37</td>\n",
       "      <td>0.02</td>\n",
       "      <td>2023-03-15</td>\n",
       "      <td>Port of Shanghai (China)</td>\n",
       "    </tr>\n",
       "    <tr>\n",
       "      <th>4</th>\n",
       "      <td>Garden Hose</td>\n",
       "      <td>21.63</td>\n",
       "      <td>1.18</td>\n",
       "      <td>17.77</td>\n",
       "      <td>0.27</td>\n",
       "      <td>0.13</td>\n",
       "      <td>2023-03-25</td>\n",
       "      <td>Port of Tianjin (China)</td>\n",
       "    </tr>\n",
       "    <tr>\n",
       "      <th>...</th>\n",
       "      <td>...</td>\n",
       "      <td>...</td>\n",
       "      <td>...</td>\n",
       "      <td>...</td>\n",
       "      <td>...</td>\n",
       "      <td>...</td>\n",
       "      <td>...</td>\n",
       "      <td>...</td>\n",
       "    </tr>\n",
       "    <tr>\n",
       "      <th>263816</th>\n",
       "      <td>Canister</td>\n",
       "      <td>23.58</td>\n",
       "      <td>3.80</td>\n",
       "      <td>0.38</td>\n",
       "      <td>0.37</td>\n",
       "      <td>0.28</td>\n",
       "      <td>2023-03-13</td>\n",
       "      <td>Port of Busan (South Korea)</td>\n",
       "    </tr>\n",
       "    <tr>\n",
       "      <th>263817</th>\n",
       "      <td>Plant</td>\n",
       "      <td>15.98</td>\n",
       "      <td>1.20</td>\n",
       "      <td>0.42</td>\n",
       "      <td>0.29</td>\n",
       "      <td>0.34</td>\n",
       "      <td>2023-03-15</td>\n",
       "      <td>Port of Tokyo (Japan)</td>\n",
       "    </tr>\n",
       "    <tr>\n",
       "      <th>263818</th>\n",
       "      <td>Pallete of Dog Food</td>\n",
       "      <td>223.05</td>\n",
       "      <td>477.58</td>\n",
       "      <td>1.00</td>\n",
       "      <td>0.92</td>\n",
       "      <td>1.48</td>\n",
       "      <td>2023-03-19</td>\n",
       "      <td>Port of Tokyo (Japan)</td>\n",
       "    </tr>\n",
       "    <tr>\n",
       "      <th>263819</th>\n",
       "      <td>Coffee Maker</td>\n",
       "      <td>169.09</td>\n",
       "      <td>2.52</td>\n",
       "      <td>0.26</td>\n",
       "      <td>0.20</td>\n",
       "      <td>0.29</td>\n",
       "      <td>2023-03-20</td>\n",
       "      <td>Port of Shanghai (China)</td>\n",
       "    </tr>\n",
       "    <tr>\n",
       "      <th>263820</th>\n",
       "      <td>Pallete of Laptops</td>\n",
       "      <td>11674.74</td>\n",
       "      <td>24855.97</td>\n",
       "      <td>0.63</td>\n",
       "      <td>0.52</td>\n",
       "      <td>0.14</td>\n",
       "      <td>2023-03-22</td>\n",
       "      <td>Port of Shanghai (China)</td>\n",
       "    </tr>\n",
       "  </tbody>\n",
       "</table>\n",
       "<p>263821 rows × 8 columns</p>\n",
       "</div>"
      ],
      "text/plain": [
       "                               name  price ($)  weight (kg)  length (m)  \\\n",
       "0                        Camera Bag      37.66         1.10        0.40   \n",
       "1       Portable Bluetooth Keyboard     144.65         0.39        0.11   \n",
       "2               Large Flat Rate Box      38.57         0.97        0.79   \n",
       "3                     Ceramic Tiles      10.34         6.22        0.36   \n",
       "4                       Garden Hose      21.63         1.18       17.77   \n",
       "...                             ...        ...          ...         ...   \n",
       "263816                     Canister      23.58         3.80        0.38   \n",
       "263817                        Plant      15.98         1.20        0.42   \n",
       "263818          Pallete of Dog Food     223.05       477.58        1.00   \n",
       "263819                 Coffee Maker     169.09         2.52        0.26   \n",
       "263820           Pallete of Laptops   11674.74     24855.97        0.63   \n",
       "\n",
       "        width (m)  height (m) shipment date               destination port  \n",
       "0            0.39        0.26    2023-03-19  Port of Singapore (Singapore)  \n",
       "1            0.06        0.03    2023-03-21    Port of Busan (South Korea)  \n",
       "2            0.55        0.35    2023-03-25        Port of Tianjin (China)  \n",
       "3            0.37        0.02    2023-03-15       Port of Shanghai (China)  \n",
       "4            0.27        0.13    2023-03-25        Port of Tianjin (China)  \n",
       "...           ...         ...           ...                            ...  \n",
       "263816       0.37        0.28    2023-03-13    Port of Busan (South Korea)  \n",
       "263817       0.29        0.34    2023-03-15          Port of Tokyo (Japan)  \n",
       "263818       0.92        1.48    2023-03-19          Port of Tokyo (Japan)  \n",
       "263819       0.20        0.29    2023-03-20       Port of Shanghai (China)  \n",
       "263820       0.52        0.14    2023-03-22       Port of Shanghai (China)  \n",
       "\n",
       "[263821 rows x 8 columns]"
      ]
     },
     "execution_count": 8,
     "metadata": {},
     "output_type": "execute_result"
    }
   ],
   "source": [
    "shippingdata"
   ]
  },
  {
   "cell_type": "code",
   "execution_count": 9,
   "id": "88928ea9",
   "metadata": {},
   "outputs": [
    {
     "data": {
      "text/plain": [
       "263821"
      ]
     },
     "execution_count": 9,
     "metadata": {},
     "output_type": "execute_result"
    }
   ],
   "source": [
    "shippingdata.shape[0]"
   ]
  },
  {
   "cell_type": "code",
   "execution_count": 10,
   "id": "8a736a45",
   "metadata": {},
   "outputs": [
    {
     "data": {
      "text/plain": [
       "8"
      ]
     },
     "execution_count": 10,
     "metadata": {},
     "output_type": "execute_result"
    }
   ],
   "source": [
    "shippingdata.shape[1]"
   ]
  },
  {
   "cell_type": "code",
   "execution_count": 37,
   "id": "6f1a51d3",
   "metadata": {},
   "outputs": [
    {
     "data": {
      "text/plain": [
       "name                   0\n",
       "price_($)              0\n",
       "weight_(kg)           13\n",
       "length_(m)           184\n",
       "width_(m)              0\n",
       "height_(m)             0\n",
       "shipment_date       2638\n",
       "destination_port      26\n",
       "dtype: int64"
      ]
     },
     "execution_count": 37,
     "metadata": {},
     "output_type": "execute_result"
    }
   ],
   "source": [
    "#so many false values\n",
    "shippingdata.isna().sum()"
   ]
  },
  {
   "cell_type": "code",
   "execution_count": 38,
   "id": "c200277b",
   "metadata": {},
   "outputs": [
    {
     "name": "stdout",
     "output_type": "stream",
     "text": [
      "<class 'pandas.core.frame.DataFrame'>\n",
      "RangeIndex: 263821 entries, 0 to 263820\n",
      "Data columns (total 8 columns):\n",
      " #   Column            Non-Null Count   Dtype  \n",
      "---  ------            --------------   -----  \n",
      " 0   name              263821 non-null  object \n",
      " 1   price_($)         263821 non-null  float64\n",
      " 2   weight_(kg)       263808 non-null  float64\n",
      " 3   length_(m)        263637 non-null  float64\n",
      " 4   width_(m)         263821 non-null  float64\n",
      " 5   height_(m)        263821 non-null  float64\n",
      " 6   shipment_date     261183 non-null  object \n",
      " 7   destination_port  263795 non-null  object \n",
      "dtypes: float64(5), object(3)\n",
      "memory usage: 16.1+ MB\n"
     ]
    }
   ],
   "source": [
    "shippingdata.info()"
   ]
  },
  {
   "cell_type": "code",
   "execution_count": 11,
   "id": "fa6b6702",
   "metadata": {},
   "outputs": [
    {
     "data": {
      "text/plain": [
       "['Camera Bag',\n",
       " 'Portable Bluetooth Keyboard',\n",
       " 'Large Flat Rate Box',\n",
       " 'Ceramic Tiles',\n",
       " 'Garden Hose',\n",
       " 'Cookware Set',\n",
       " 'Drone',\n",
       " 'Pallete of Computers',\n",
       " 'Pallete of Clothing',\n",
       " 'Large Bubble Mailer',\n",
       " 'Big Bag with Glass Scraps',\n",
       " 'Gaming Console',\n",
       " 'Guitar',\n",
       " 'Laptop Sleeve',\n",
       " 'Microwave',\n",
       " 'Bananas',\n",
       " 'Pallete of Canned Vegetables',\n",
       " 'Smartphone Case',\n",
       " 'Pallete of Books',\n",
       " 'Forklift',\n",
       " 'Electric Guitar',\n",
       " 'Tomatoes (Canned)',\n",
       " 'Wetsuit',\n",
       " 'Medium Shipping Tube',\n",
       " 'Drawstring Bag',\n",
       " 'Dog Crate',\n",
       " 'Roofing Shingles',\n",
       " 'Big Bag with Granules',\n",
       " 'Coffee Table',\n",
       " 'Lawn Sprinkler',\n",
       " 'Coffee Beans',\n",
       " 'Sprinkler System',\n",
       " 'Sneakers',\n",
       " 'Paper Towel Holder',\n",
       " 'Sleeping Bag',\n",
       " 'Sailboat',\n",
       " 'Teapot',\n",
       " 'PVC Pipes',\n",
       " 'Hiking Boots',\n",
       " 'Refrigerator',\n",
       " 'Instant Noodle Pack',\n",
       " 'Compost Bin',\n",
       " 'Medium Box',\n",
       " 'Pruning Shears',\n",
       " 'Smartphone',\n",
       " 'MDF Boards',\n",
       " 'Coffee Maker',\n",
       " 'Pineapple (Canned)',\n",
       " 'Flute',\n",
       " 'Dining Table',\n",
       " 'Stone Slabs',\n",
       " 'Big Bag with Rocks',\n",
       " 'Drum Set',\n",
       " 'Big Bag with Grains',\n",
       " 'Jar of Pasta Sauce',\n",
       " 'Pallete of Chips',\n",
       " 'Corn (Canned)',\n",
       " 'Cement Bag',\n",
       " 'Carton of Eggs',\n",
       " 'Wheelbarrow',\n",
       " 'Table Lamp',\n",
       " 'Tea Leaves',\n",
       " 'Laptop Bag',\n",
       " 'Medium Flat Rate Box',\n",
       " 'Tennis Racket',\n",
       " 'Couch',\n",
       " 'Pallete of Paper Towels',\n",
       " 'Shelves',\n",
       " 'Iron',\n",
       " 'Box of Tea',\n",
       " 'Small Boat',\n",
       " 'Big Bag with Textile Scraps',\n",
       " 'Dish Rack',\n",
       " 'Large Padded Envelope',\n",
       " 'Bricks',\n",
       " 'Pallete of Canned Fruit',\n",
       " 'Camping Stove',\n",
       " 'Pallete of Cat Food',\n",
       " 'Showerhead',\n",
       " 'Plant',\n",
       " 'Bag of Flour',\n",
       " 'Bed',\n",
       " 'Pallete of Breakfast Cereal',\n",
       " 'Pallete of Coffee',\n",
       " 'Large Box',\n",
       " 'Picture Frame',\n",
       " 'Can of Beans',\n",
       " 'Hedge Trimmer',\n",
       " 'Loaf of Bread',\n",
       " 'Plywood Sheets',\n",
       " 'Pallete of Laptops',\n",
       " 'Garden Rake',\n",
       " 'TV',\n",
       " 'Big Bag with Plastic Scraps',\n",
       " 'Running Shoes',\n",
       " 'Headphones',\n",
       " 'Wine Opener',\n",
       " 'Electric Drill',\n",
       " 'Wooden Planks',\n",
       " 'Office Chair',\n",
       " 'Soccer Ball',\n",
       " 'Bluetooth Speaker',\n",
       " 'Jar of Peanut Butter',\n",
       " 'Foam Roller',\n",
       " 'Wheat Flour',\n",
       " 'Pruning Saw',\n",
       " 'Aluminum Sheets',\n",
       " 'Sewing Machine',\n",
       " 'Bag of Rice',\n",
       " 'Messenger Bag',\n",
       " 'Jump Rope',\n",
       " 'Backpacking Tent',\n",
       " 'Water Bottle',\n",
       " 'External Hard Drives',\n",
       " 'Movie Night Pack',\n",
       " 'Water Heater',\n",
       " 'Bottle of Olive Oil',\n",
       " 'Small Box',\n",
       " 'Box of Chocolate Bar',\n",
       " 'Soap Dispenser',\n",
       " 'Box of Clothes',\n",
       " 'Bathroom Scale',\n",
       " 'Desk Lamp',\n",
       " 'Healthy Snack Pack',\n",
       " 'Big Bag with Debris',\n",
       " 'Digital Camera',\n",
       " 'Toaster',\n",
       " 'Sofa',\n",
       " 'Portable Charger',\n",
       " 'TV Stand',\n",
       " 'Mattress',\n",
       " 'Kitchen Timer',\n",
       " 'Pallete of Orange Juice',\n",
       " 'Washing machine',\n",
       " 'PC Mice',\n",
       " 'Toilet Brush',\n",
       " 'Bookshelf',\n",
       " 'Pallete of Bird Food',\n",
       " 'Pallete of Chairs',\n",
       " 'Duffel Bag',\n",
       " 'Resistance Loop Bands',\n",
       " 'Pallete of Cement',\n",
       " 'Backpack',\n",
       " 'Pallete of Snacks',\n",
       " 'Speakers',\n",
       " 'Large Desk',\n",
       " 'Armchair',\n",
       " 'Small Desk',\n",
       " 'Pallete of Smartphones',\n",
       " 'Spices Collection',\n",
       " 'Pallete of Tables',\n",
       " 'Mixed Dried Fruits',\n",
       " 'Car',\n",
       " 'Big Bag with Coal',\n",
       " 'Pool Table',\n",
       " 'Pallete of Wine Bottles',\n",
       " 'Box of Pasta',\n",
       " 'Guitar Case',\n",
       " 'Jet Ski',\n",
       " 'Wristwatch',\n",
       " 'Beach Towel',\n",
       " 'Weed Whacker',\n",
       " 'Small Flat Rate Box',\n",
       " 'Bicycle',\n",
       " 'Extra Large Box',\n",
       " 'Pallete of Magazines',\n",
       " 'Microwave Oven',\n",
       " 'Pallete of Tires',\n",
       " 'Snowboard',\n",
       " 'Leaf Blower',\n",
       " 'Printer',\n",
       " 'Laptop Backpack',\n",
       " 'Big Bag with Fertilizer',\n",
       " 'Generators',\n",
       " 'Washing Machine',\n",
       " 'Electric Kettle',\n",
       " 'Desktop Computer',\n",
       " 'Whey Protein Powder',\n",
       " 'Planting Trowel',\n",
       " 'Hoe',\n",
       " 'Fan',\n",
       " 'Television',\n",
       " 'Sunglasses',\n",
       " 'Vacuum Cleaner',\n",
       " 'Big Bag with Chemicals',\n",
       " 'Box of Books',\n",
       " 'Motorcycle',\n",
       " 'Large Shipping Tube',\n",
       " 'Assorted Chocolates',\n",
       " 'Lawn Mower',\n",
       " 'Desk Chair',\n",
       " 'Tablets',\n",
       " 'Lawn Edger',\n",
       " 'Pallete of Frozen Fish',\n",
       " 'Fitness Trackers',\n",
       " 'Pallete of Tea',\n",
       " 'Measuring Cups and Spoons',\n",
       " 'Pallete of Bananas',\n",
       " 'Pallete of Shoes',\n",
       " 'Pallete of Glassware',\n",
       " 'Duvet',\n",
       " 'Weed Eater',\n",
       " 'Big Bag with Food Ingredients',\n",
       " 'Breakfast Bundle',\n",
       " 'Oranges',\n",
       " 'Mountain Bike',\n",
       " 'Apples',\n",
       " 'Pallete of Water Bottles',\n",
       " 'Laptop',\n",
       " 'Handheld Mixer',\n",
       " 'Smartphone Gimbal',\n",
       " 'Golf Cart',\n",
       " 'Gym Bag',\n",
       " 'Garden Cart',\n",
       " 'Dumbbell Set',\n",
       " 'Yoga Mat',\n",
       " 'Computer',\n",
       " 'ATV',\n",
       " 'Pallete of Dog Food',\n",
       " 'Box of Crackers',\n",
       " 'Floor Lamp',\n",
       " 'Pallete of Plastic Cups',\n",
       " 'Insulation Rolls',\n",
       " 'Assorted Tea Bags',\n",
       " 'Piano',\n",
       " 'Watering Can',\n",
       " 'E-Reader',\n",
       " 'Cycling Helmet',\n",
       " 'Scooter',\n",
       " 'Air Conditioner',\n",
       " 'Electric Shaver',\n",
       " 'Rain Jacket',\n",
       " 'Gardening Gloves',\n",
       " 'Camera',\n",
       " 'Pallete of Frozen Meat',\n",
       " 'Pallete of Musical Instruments',\n",
       " 'Pallete of Toys',\n",
       " 'Violin',\n",
       " 'Big Bag with Metal Scraps',\n",
       " 'Blender',\n",
       " 'Wine Bottle',\n",
       " 'Garden Shears',\n",
       " 'Smart Home Devices',\n",
       " 'Wireless Earbuds',\n",
       " 'Glass Sheets',\n",
       " 'Computer Monitor',\n",
       " 'Pallete of Plants',\n",
       " 'Umbrella',\n",
       " 'Pallete of Beer Cases',\n",
       " 'Tea Kettle',\n",
       " 'Suitcase',\n",
       " 'Microphone',\n",
       " 'Pallete of Crackers',\n",
       " 'Big Bag with Sand',\n",
       " 'Swim Goggles',\n",
       " 'Resistance Bands',\n",
       " 'Air Conditioners',\n",
       " 'Hair Dryer',\n",
       " 'Skipping Rope',\n",
       " 'Bassinet',\n",
       " 'Kitchen Knife Set',\n",
       " 'Canister',\n",
       " 'Fruit Basket',\n",
       " 'Pallete of Apples',\n",
       " 'Tablet',\n",
       " 'Fridge',\n",
       " 'Box of Canned Soup',\n",
       " 'Pallete of T-shirts',\n",
       " 'Box of Toys',\n",
       " 'Box of Cans of Tuna',\n",
       " 'Garden Shovel',\n",
       " 'Small Shipping Tube',\n",
       " 'Big Bag with Paper Scraps',\n",
       " 'Palette Water Bottles',\n",
       " 'Folding Table',\n",
       " 'Gaming Mouse',\n",
       " 'Rice',\n",
       " 'Metal Pipes',\n",
       " 'Small Padded Envelope',\n",
       " 'Briefcase',\n",
       " 'Electric Toothbrush',\n",
       " 'Sports Car',\n",
       " 'Small Bubble Mailer',\n",
       " 'Toy Car',\n",
       " 'Steel Bars',\n",
       " 'Garden Sprayer',\n",
       " 'Pallete of Cleaning Products',\n",
       " 'Pillows',\n",
       " 'Keyboard',\n",
       " 'Pallete of Cookies',\n",
       " 'Running Belt']"
      ]
     },
     "execution_count": 11,
     "metadata": {},
     "output_type": "execute_result"
    }
   ],
   "source": [
    "shippingdata['name'].unique().tolist()"
   ]
  },
  {
   "cell_type": "code",
   "execution_count": 12,
   "id": "fc498663",
   "metadata": {},
   "outputs": [
    {
     "data": {
      "text/plain": [
       "['name',\n",
       " 'price ($)',\n",
       " 'weight (kg)',\n",
       " 'length (m)',\n",
       " 'width (m)',\n",
       " 'height (m)',\n",
       " 'shipment date',\n",
       " 'destination port']"
      ]
     },
     "execution_count": 12,
     "metadata": {},
     "output_type": "execute_result"
    }
   ],
   "source": [
    "shippingdata.columns.unique().tolist()"
   ]
  },
  {
   "cell_type": "code",
   "execution_count": 13,
   "id": "14fd91c0",
   "metadata": {},
   "outputs": [],
   "source": [
    "# let's rename all the columns to make more eficcient our work\n",
    "shippingdata = shippingdata.rename(columns={'price ($)': 'price_($)', 'weight (kg)': 'weight_(kg)', 'destination port': 'destination_port',\\\n",
    "                  'weight (kg)': 'weight_(kg)', 'length (m)': 'length_(m)', 'width (m)': 'width_(m)', \\\n",
    "                   'height (m)': 'height_(m)', 'shipment date': 'shipment_date'})"
   ]
  },
  {
   "cell_type": "code",
   "execution_count": 14,
   "id": "16a1d95f",
   "metadata": {},
   "outputs": [
    {
     "data": {
      "text/plain": [
       "['name',\n",
       " 'price_($)',\n",
       " 'weight_(kg)',\n",
       " 'length_(m)',\n",
       " 'width_(m)',\n",
       " 'height_(m)',\n",
       " 'shipment_date',\n",
       " 'destination_port']"
      ]
     },
     "execution_count": 14,
     "metadata": {},
     "output_type": "execute_result"
    }
   ],
   "source": [
    "#change the data\n",
    "shippingdata.columns.unique().tolist()"
   ]
  },
  {
   "cell_type": "code",
   "execution_count": 15,
   "id": "0306eaee",
   "metadata": {},
   "outputs": [
    {
     "data": {
      "text/plain": [
       "0         True\n",
       "1         True\n",
       "2         True\n",
       "3         True\n",
       "4         True\n",
       "          ... \n",
       "263816    True\n",
       "263817    True\n",
       "263818    True\n",
       "263819    True\n",
       "263820    True\n",
       "Name: destination_port, Length: 263821, dtype: bool"
      ]
     },
     "execution_count": 15,
     "metadata": {},
     "output_type": "execute_result"
    }
   ],
   "source": [
    " shippingdata['destination_port'].notna()"
   ]
  },
  {
   "cell_type": "code",
   "execution_count": 17,
   "id": "b08bb9f3",
   "metadata": {},
   "outputs": [
    {
     "data": {
      "text/plain": [
       "<bound method NDFrame._add_numeric_operations.<locals>.any of 0         False\n",
       "1         False\n",
       "2         False\n",
       "3         False\n",
       "4         False\n",
       "          ...  \n",
       "263816    False\n",
       "263817    False\n",
       "263818    False\n",
       "263819    False\n",
       "263820    False\n",
       "Name: destination_port, Length: 263821, dtype: bool>"
      ]
     },
     "execution_count": 17,
     "metadata": {},
     "output_type": "execute_result"
    }
   ],
   "source": [
    " shippingdata['destination_port'].isna().any"
   ]
  },
  {
   "cell_type": "code",
   "execution_count": 18,
   "id": "fbaafe86",
   "metadata": {},
   "outputs": [
    {
     "data": {
      "text/plain": [
       "['Port of Singapore (Singapore)',\n",
       " 'Port of Busan (South Korea)',\n",
       " 'Port of Tianjin (China)',\n",
       " 'Port of Shanghai (China)',\n",
       " 'Port of Tokyo (Japan)',\n",
       " nan]"
      ]
     },
     "execution_count": 18,
     "metadata": {},
     "output_type": "execute_result"
    }
   ],
   "source": [
    "shippingdata['destination_port'].unique().tolist()"
   ]
  },
  {
   "cell_type": "code",
   "execution_count": 20,
   "id": "bda98023",
   "metadata": {},
   "outputs": [
    {
     "data": {
      "text/plain": [
       "destination_port\n",
       "Port of Tianjin (China)          2.466837e+08\n",
       "Port of Busan (South Korea)      2.257314e+08\n",
       "Port of Tokyo (Japan)            2.196962e+08\n",
       "Port of Singapore (Singapore)    2.075872e+08\n",
       "Port of Shanghai (China)         2.068017e+08\n",
       "Name: price_($), dtype: float64"
      ]
     },
     "execution_count": 20,
     "metadata": {},
     "output_type": "execute_result"
    }
   ],
   "source": [
    "shippingdata.groupby('destination_port')['price_($)'].sum().sort_values(ascending=False)"
   ]
  },
  {
   "cell_type": "code",
   "execution_count": 21,
   "id": "b25dce20",
   "metadata": {},
   "outputs": [
    {
     "data": {
      "text/plain": [
       "<Axes: title={'center': 'Value in US Dollars by destination port'}, xlabel='destination_port'>"
      ]
     },
     "execution_count": 21,
     "metadata": {},
     "output_type": "execute_result"
    },
    {
     "data": {
      "image/png": "[encoded data removed]",
      "text/plain": [
       "<Figure size 640x480 with 1 Axes>"
      ]
     },
     "metadata": {},
     "output_type": "display_data"
    }
   ],
   "source": [
    "shippingdata.groupby('destination_port')['price_($)'].sum().sort_values(ascending=False).plot.bar(title=\"Value in US Dollars by destination port\")"
   ]
  },
  {
   "cell_type": "code",
   "execution_count": 34,
   "id": "9eab7ae0",
   "metadata": {},
   "outputs": [
    {
     "data": {
      "text/plain": [
       "name\n",
       "Backpack               1532\n",
       "Backpacking Tent       1511\n",
       "Armchair               1510\n",
       "Bassinet                768\n",
       "Bananas                 766\n",
       "Apples                  746\n",
       "Air Conditioners        735\n",
       "Aluminum Sheets         735\n",
       "Bag of Rice             727\n",
       "Air Conditioner         718\n",
       "Bag of Flour            709\n",
       "Bathroom Scale          706\n",
       "Assorted Chocolates     695\n",
       "Assorted Tea Bags       695\n",
       "ATV                     691\n",
       "Name: name, dtype: int64"
      ]
     },
     "execution_count": 34,
     "metadata": {},
     "output_type": "execute_result"
    }
   ],
   "source": [
    "shippingdata.groupby('name')['name'].count().head(15).sort_values(ascending=False)"
   ]
  },
  {
   "cell_type": "code",
   "execution_count": 35,
   "id": "8c65b0c5",
   "metadata": {},
   "outputs": [],
   "source": [
    "top15products =shippingdata.groupby('name')['name'].count().head(15).sort_values(ascending=False)"
   ]
  },
  {
   "cell_type": "code",
   "execution_count": 36,
   "id": "368a8d33",
   "metadata": {},
   "outputs": [
    {
     "data": {
      "text/plain": [
       "<Axes: title={'center': 'Count of Top 15 products delivered by the ship'}, xlabel='Products'>"
      ]
     },
     "execution_count": 36,
     "metadata": {},
     "output_type": "execute_result"
    },
    {
     "data": {
      "image/png": "[encoded data removed]",
      "text/plain": [
       "<Figure size 640x480 with 1 Axes>"
      ]
     },
     "metadata": {},
     "output_type": "display_data"
    }
   ],
   "source": [
    "top15products.plot.bar(title=\"Count of Top 15 products delivered by the ship\", xlabel=\"Products\" )"
   ]
  },
  {
   "cell_type": "code",
   "execution_count": 42,
   "id": "7e3d7d45",
   "metadata": {},
   "outputs": [
    {
     "data": {
      "text/plain": [
       "name\n",
       "ATV                              2068283.09\n",
       "Bed                              1528444.49\n",
       "Air Conditioners                 1269746.40\n",
       "Bicycle                           722713.98\n",
       "Air Conditioner                   654344.80\n",
       "Armchair                          543274.26\n",
       "Backpacking Tent                  389434.18\n",
       "Big Bag with Glass Scraps         158105.53\n",
       "Bassinet                          153900.54\n",
       "Big Bag with Chemicals            149180.40\n",
       "Big Bag with Metal Scraps         135860.00\n",
       "Big Bag with Food Ingredients     113371.65\n",
       "Big Bag with Plastic Scraps       109943.49\n",
       "Big Bag with Rocks                107127.13\n",
       "Backpack                           95912.59\n",
       "Bananas                            94940.63\n",
       "Big Bag with Coal                  86131.52\n",
       "Big Bag with Paper Scraps          73606.80\n",
       "Big Bag with Debris                72128.17\n",
       "Apples                             66552.64\n",
       "Big Bag with Granules              59766.54\n",
       "Aluminum Sheets                    55317.79\n",
       "Big Bag with Fertilizer            52603.67\n",
       "Big Bag with Grains                46957.58\n",
       "Beach Towel                        15229.29\n",
       "Bathroom Scale                     14342.14\n",
       "Assorted Chocolates                11982.70\n",
       "Bag of Rice                        11049.62\n",
       "Assorted Tea Bags                   6925.39\n",
       "Bag of Flour                        5294.72\n",
       "Name: price_($), dtype: float64"
      ]
     },
     "execution_count": 42,
     "metadata": {},
     "output_type": "execute_result"
    }
   ],
   "source": [
    "shippingdata.groupby('name')['price_($)'].sum().head(30).sort_values(ascending=False)"
   ]
  },
  {
   "cell_type": "code",
   "execution_count": 45,
   "id": "61b2e5d8",
   "metadata": {},
   "outputs": [],
   "source": [
    "top30Products=shippingdata.groupby('name')['price_($)'].sum().head(30).sort_values(ascending=False)"
   ]
  },
  {
   "cell_type": "code",
   "execution_count": 46,
   "id": "9cf1eda7",
   "metadata": {},
   "outputs": [
    {
     "data": {
      "text/plain": [
       "<Axes: title={'center': 'The sum of Top 15 products delivered by the ship'}, xlabel='Products', ylabel='Price in US Dollars'>"
      ]
     },
     "execution_count": 46,
     "metadata": {},
     "output_type": "execute_result"
    },
    {
     "data": {
      "image/png": "[encoded data removed]",
      "text/plain": [
       "<Figure size 640x480 with 1 Axes>"
      ]
     },
     "metadata": {},
     "output_type": "display_data"
    }
   ],
   "source": [
    "top30Products.plot.bar(title=\"The sum of Top 15 products delivered by the ship\", xlabel=\"Products\", ylabel=\"Price in US Dollars\" )"
   ]
  },
  {
   "cell_type": "code",
   "execution_count": null,
   "id": "122b2cff",
   "metadata": {},
   "outputs": [],
   "source": []
  }
 ],
 "metadata": {
  "kernelspec": {
   "display_name": "Python 3 (ipykernel)",
   "language": "python",
   "name": "python3"
  },
  "language_info": {
   "codemirror_mode": {
    "name": "ipython",
    "version": 3
   },
   "file_extension": ".py",
   "mimetype": "text/x-python",
   "name": "python",
   "nbconvert_exporter": "python",
   "pygments_lexer": "ipython3",
   "version": "3.9.16"
  }
 },
 "nbformat": 4,
 "nbformat_minor": 5
}
